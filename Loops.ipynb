{
 "cells": [
  {
   "cell_type": "markdown",
   "metadata": {},
   "source": [
    "#### Loops\n",
    "\n",
    "loops will decrease the work of a user to execute same task for n number of times\n",
    "\n",
    "* for \n",
    "* while"
   ]
  },
  {
   "cell_type": "markdown",
   "metadata": {},
   "source": [
    "#### For loop\n",
    "\n",
    "Syntax:  \n",
    "for var in range(start,end,step count):  # step count means increment/decrement\n",
    "    - statements"
   ]
  },
  {
   "cell_type": "code",
   "execution_count": 9,
   "metadata": {},
   "outputs": [],
   "source": [
    "# print numbers between 0 to 10   #11,1\n",
    "\n",
    "for i in range(11): # 0,1,2,3,4,5,6,7,8,9,10\n",
    "    print(i)   "
   ]
  },
  {
   "cell_type": "code",
   "execution_count": 12,
   "metadata": {
    "collapsed": true
   },
   "outputs": [
    {
     "name": "stdout",
     "output_type": "stream",
     "text": [
      "1\n",
      "3\n",
      "5\n",
      "7\n",
      "9\n"
     ]
    }
   ],
   "source": [
    "# print all alternative numbers in the range of 1,10,\n",
    "# 1,3,5,7,9   \n",
    "# range 2,12\n",
    "#2,4,6,8  ==> increment is 2\n",
    "for i in range(1,11,2):  #1,3,5,7,9\n",
    "    print(i)"
   ]
  },
  {
   "cell_type": "code",
   "execution_count": 21,
   "metadata": {},
   "outputs": [
    {
     "name": "stdout",
     "output_type": "stream",
     "text": [
      "100 105 110 115 120 125 130 135 140 145 150 155 160 165 170 175 180 185 190 195 200 205 210 215 220 225 230 235 240 245 250 255 260 265 270 275 280 285 290 295 "
     ]
    }
   ],
   "source": [
    "for i in range(100,300,5):\n",
    "    print(i,end=\" \")"
   ]
  },
  {
   "cell_type": "code",
   "execution_count": 31,
   "metadata": {
    "collapsed": true
   },
   "outputs": [
    {
     "name": "stdout",
     "output_type": "stream",
     "text": [
      "100 105 110 115 120 125\n",
      "val is 125\n",
      "130 135 140 145 150 155 160 165 170 175 180 185 190 195 200 205 210 215 220 225 230 235 240 245 250 255 260 265 270 275 280 285 290 295 300 305 310 315 320 325 330 335 340 345 350 355 360 365 370 375 380 385 390 395 400 405 410 415 420 425 430 435 440 445 450 455 460 465 470 475 480 485 490 495 "
     ]
    }
   ],
   "source": [
    "for i in range(100,500,5):  # 125 ==>the value is 125\n",
    "    if i == 125:\n",
    "        print(i)\n",
    "        print(\"val is 125\")\n",
    "    else:\n",
    "        print(i,end =\" \" )\n",
    "    "
   ]
  },
  {
   "cell_type": "code",
   "execution_count": 6,
   "metadata": {},
   "outputs": [
    {
     "name": "stdout",
     "output_type": "stream",
     "text": [
      "enter the first num:51\n",
      "enter second no:100\n",
      "52 54 56 58 60 62 64 66 68 70 72 74 76 78 80 82 84 86 88 90 92 94 96 98 100 "
     ]
    }
   ],
   "source": [
    "# print all the even no's in the given range(both are inclusive)  \n",
    "i=int(input(\"enter the first num:\"))\n",
    "j=int(input(\"enter second no:\"))\n",
    "for k in range(i,j+1):  # 51, 101   # 51,99 \n",
    "    if k%2 ==0:\n",
    "        print(k,end = \" \")\n",
    "    "
   ]
  },
  {
   "cell_type": "markdown",
   "metadata": {},
   "source": [
    "### For loop in reverse order\n",
    "syntax:\n",
    "for i in range(start,end, decrement):<br>\n",
    "    - set of statements\n"
   ]
  },
  {
   "cell_type": "code",
   "execution_count": 9,
   "metadata": {
    "collapsed": true
   },
   "outputs": [
    {
     "name": "stdout",
     "output_type": "stream",
     "text": [
      "10\n",
      "9\n"
     ]
    }
   ],
   "source": [
    "# print all the numbers from 1 to 10 in reverse order\n",
    "for i in range(10,0,-1):  # 10,9,8,.....1,0\n",
    "# for i in range(1,11)   #1,2,3,...10,11\n",
    "    print(i) \n",
    "    "
   ]
  },
  {
   "cell_type": "code",
   "execution_count": 20,
   "metadata": {
    "collapsed": true
   },
   "outputs": [
    {
     "name": "stdout",
     "output_type": "stream",
     "text": [
      "enteer the first num:10\n",
      "enter second no:20\n",
      "20\n",
      "18\n",
      "16\n",
      "14\n",
      "12\n"
     ]
    }
   ],
   "source": [
    "#print all the even numbers in reverse order\n",
    "\n",
    "i=int(input(\"enteer the first num:\"))\n",
    "j=int(input(\"enter second no:\"))\n",
    "for k in range(j,i-1,-1):  # 10,9,8...0,-1\n",
    "    if k%2==0:\n",
    "        print(k)\n"
   ]
  },
  {
   "cell_type": "code",
   "execution_count": 13,
   "metadata": {
    "collapsed": true
   },
   "outputs": [
    {
     "name": "stdout",
     "output_type": "stream",
     "text": [
      "8956\n",
      "<class 'str'>\n",
      "8956\n",
      "<class 'int'>\n",
      "8956.2\n"
     ]
    },
    {
     "data": {
      "text/plain": [
       "float"
      ]
     },
     "execution_count": 13,
     "metadata": {},
     "output_type": "execute_result"
    }
   ],
   "source": [
    "n = input()  #\"8956\" 8,9,5,6  #8 9 6 2\n",
    "print(type(n))\n",
    "n1 = int(input())  # 8956\n",
    "print(type(n1))\n",
    "n2 = float(input())\n",
    "type(n2)\n"
   ]
  },
  {
   "cell_type": "code",
   "execution_count": 21,
   "metadata": {},
   "outputs": [
    {
     "name": "stdout",
     "output_type": "stream",
     "text": [
      "20\n",
      "1\n",
      "2\n",
      "4\n",
      "5\n",
      "10\n",
      "20\n"
     ]
    }
   ],
   "source": [
    "# find the factors of a given number # 10 ===>1,2,5,10==>10%1==0,10%2==0\n",
    "# find the count of factors # 4\n",
    "\n",
    "n = int(input())                \n",
    "for i in range(1,n+1):\n",
    "    if n%i==0:\n",
    "        print(i)"
   ]
  },
  {
   "cell_type": "code",
   "execution_count": 24,
   "metadata": {},
   "outputs": [
    {
     "name": "stdout",
     "output_type": "stream",
     "text": [
      "5\n",
      "2\n"
     ]
    }
   ],
   "source": [
    "n = int(input())   # 5\n",
    "c = 0 #1\n",
    "for i in range(1,n+1):  # 1,2,3,4,5\n",
    "    if n%i==0:  # 5%2==0\n",
    "        c+=1  # c= c+1\n",
    "print(c)\n",
    "        "
   ]
  },
  {
   "cell_type": "code",
   "execution_count": null,
   "metadata": {},
   "outputs": [],
   "source": []
  }
 ],
 "metadata": {
  "kernelspec": {
   "display_name": "Python 3",
   "language": "python",
   "name": "python3"
  },
  "language_info": {
   "codemirror_mode": {
    "name": "ipython",
    "version": 3
   },
   "file_extension": ".py",
   "mimetype": "text/x-python",
   "name": "python",
   "nbconvert_exporter": "python",
   "pygments_lexer": "ipython3",
   "version": "3.7.3"
  }
 },
 "nbformat": 4,
 "nbformat_minor": 2
}
