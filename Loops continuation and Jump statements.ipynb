{
 "cells": [
  {
   "cell_type": "markdown",
   "metadata": {},
   "source": [
    "### Today topics\n",
    "\n",
    "* Jump Statements\n",
    "    * Break\n",
    "    * Continue\n",
    "    * pass\n",
    "* while loop\n",
    "* String concept"
   ]
  },
  {
   "cell_type": "code",
   "execution_count": 1,
   "metadata": {},
   "outputs": [],
   "source": [
    "# write a program to find given number is prime or not\n",
    "# 23 (1,2,3,......,22,23)   # total no of factors 2\n",
    "# 23 (2,3,4,.....21,22)   # total number of factors 0"
   ]
  },
  {
   "cell_type": "code",
   "execution_count": 4,
   "metadata": {},
   "outputs": [
    {
     "name": "stdout",
     "output_type": "stream",
     "text": [
      "103\n",
      "prime\n"
     ]
    }
   ],
   "source": [
    "n = int(input())  # 7\n",
    "c = 0  #2\n",
    "for i in range(1,n+1):#1,2,3,4,5,6,7\n",
    "    if n%i==0: # 7%1==0, 7%2==0, 7%7==0\n",
    "        c=c+1    # c=1,2\n",
    "if c==2:\n",
    "    print(\"prime\")\n",
    "else:\n",
    "    print(\"not a prime\")\n",
    "        "
   ]
  },
  {
   "cell_type": "code",
   "execution_count": 5,
   "metadata": {
    "collapsed": true
   },
   "outputs": [
    {
     "name": "stdout",
     "output_type": "stream",
     "text": [
      "23\n",
      "prime\n"
     ]
    }
   ],
   "source": [
    "n = int(input())  # 7\n",
    "c = 0  #2\n",
    "for i in range(2,n):# 2,3,4,5,6\n",
    "    if n%i==0: #  7%2==0, 7%3==0\n",
    "        c=c+1    \n",
    "if c==0:\n",
    "    print(\"prime\")\n",
    "else:\n",
    "    print(\"not a prime\")\n",
    "        "
   ]
  },
  {
   "cell_type": "markdown",
   "metadata": {},
   "source": [
    "#### Jump statements\n",
    "\n",
    "* break\n",
    "* continue\n",
    "* pass"
   ]
  },
  {
   "cell_type": "code",
   "execution_count": 9,
   "metadata": {
    "collapsed": true
   },
   "outputs": [
    {
     "name": "stdout",
     "output_type": "stream",
     "text": [
      "1\n",
      "10\n",
      "5 is not there\n",
      "5 is not there\n",
      "5 is not there\n",
      "5 is not there\n",
      "5 is there\n"
     ]
    }
   ],
   "source": [
    "# take the inputs from the user and check \n",
    "# whether 5 is there in the  given range\n",
    "\n",
    "n1 = int(input())\n",
    "n2 = int(input())\n",
    "for i in range(n1,n2+1):  #1,2,3,4,5,\n",
    "    if i ==5:\n",
    "        print(\"5 is there\")\n",
    "        break\n",
    "    else:\n",
    "        print(\"5 is not there\")\n",
    "        \n",
    "    "
   ]
  },
  {
   "cell_type": "code",
   "execution_count": 18,
   "metadata": {
    "collapsed": true
   },
   "outputs": [
    {
     "name": "stdout",
     "output_type": "stream",
     "text": [
      "P\n",
      "y\n",
      "t\n",
      "h\n",
      "o\n",
      "n\n",
      "n is there\n"
     ]
    }
   ],
   "source": [
    "s = \"Pythonnnnnnnn\"\n",
    "for i in s:# Python nnnnnn\n",
    "    print(i)\n",
    "    if i==\"n\":  #\n",
    "        print(\"n is there\")\n",
    "        break\n",
    "        "
   ]
  },
  {
   "cell_type": "code",
   "execution_count": 22,
   "metadata": {},
   "outputs": [
    {
     "name": "stdout",
     "output_type": "stream",
     "text": [
      "P y t h o n @ P r o g r a m m i n g "
     ]
    }
   ],
   "source": [
    "s = \"Python@Programming\"\n",
    "for i in s:\n",
    "    print(i,end = \" \")"
   ]
  },
  {
   "cell_type": "code",
   "execution_count": 33,
   "metadata": {},
   "outputs": [
    {
     "name": "stdout",
     "output_type": "stream",
     "text": [
      "p yes\n",
      "no\n",
      "y yes\n",
      "no\n",
      "t yes\n",
      "no\n",
      "h yes\n",
      "no\n",
      "o yes\n",
      "no\n",
      "n yes\n",
      "no\n"
     ]
    }
   ],
   "source": [
    "for i in s: # P y t h o n @ P r o g r a m m i n g \n",
    "    if i == \"@\" or i == \"g\":\n",
    "        print(\"continue is there\")\n",
    "        continue\n",
    "    print(i, end = \" \")\n",
    "    print(\"yes\")\n",
    "    print(\"no\")"
   ]
  },
  {
   "cell_type": "code",
   "execution_count": 37,
   "metadata": {
    "collapsed": true
   },
   "outputs": [
    {
     "name": "stdout",
     "output_type": "stream",
     "text": [
      "P yes\n",
      "no\n",
      "y yes\n",
      "no\n",
      "t yes\n",
      "no\n",
      "h yes\n",
      "no\n",
      "o yes\n",
      "no\n",
      "n yes\n",
      "no\n",
      "@ yes\n",
      "no\n",
      "P yes\n",
      "no\n",
      "r yes\n",
      "no\n",
      "o yes\n",
      "no\n",
      "g yes\n",
      "no\n",
      "r yes\n",
      "no\n",
      "a yes\n",
      "no\n",
      "m yes\n",
      "no\n",
      "m yes\n",
      "no\n",
      "i yes\n",
      "no\n",
      "n yes\n",
      "no\n",
      "g yes\n",
      "no\n"
     ]
    }
   ],
   "source": [
    "# pass statement\n",
    "s = \"Python@Programming\"\n",
    "for i in s:  # p y t h o n\n",
    "    if i == \"@\" and i == \"g\":\n",
    "        print(\"h is there\")\n",
    "        #pass  #continue\n",
    "    print(i, end = \" \")\n",
    "    print(\"yes\")\n",
    "    print(\"no\")"
   ]
  },
  {
   "cell_type": "markdown",
   "metadata": {},
   "source": [
    "#### While loop\n",
    "syntax:\n",
    "while condition:\n",
    "    - statements\n",
    "    incerement/decrement"
   ]
  },
  {
   "cell_type": "code",
   "execution_count": 38,
   "metadata": {
    "collapsed": true
   },
   "outputs": [
    {
     "name": "stdout",
     "output_type": "stream",
     "text": [
      "1\n",
      "2\n",
      "3\n",
      "4\n",
      "5\n",
      "6\n",
      "7\n",
      "8\n",
      "9\n",
      "10\n"
     ]
    }
   ],
   "source": [
    "n = 1\n",
    "while n<=10:  #11\n",
    "    print(n)\n",
    "    n=n+1\n",
    "    "
   ]
  },
  {
   "cell_type": "code",
   "execution_count": 42,
   "metadata": {},
   "outputs": [
    {
     "name": "stdout",
     "output_type": "stream",
     "text": [
      "100\n"
     ]
    }
   ],
   "source": [
    "# take the input from user and print all the numbers from input to 50\n",
    "n = int(input())  #  30\n",
    "for i in range(n,50):\n",
    "    print(i,end = \" \")"
   ]
  },
  {
   "cell_type": "code",
   "execution_count": 44,
   "metadata": {
    "scrolled": true
   },
   "outputs": [
    {
     "name": "stdout",
     "output_type": "stream",
     "text": [
      "100\n"
     ]
    }
   ],
   "source": [
    "n = int(input())\n",
    "while n<=50:\n",
    "    print(n)\n",
    "    n+=1"
   ]
  },
  {
   "cell_type": "code",
   "execution_count": 1,
   "metadata": {},
   "outputs": [
    {
     "name": "stdout",
     "output_type": "stream",
     "text": [
      "5\n",
      "30\n",
      "6.0\n"
     ]
    }
   ],
   "source": [
    "n = int(input()) #5\n",
    "while n!=0:\n",
    "    s= int(input()) #50\n",
    "    t = s/n  #50/0\n",
    "    print(t)\n",
    "    break"
   ]
  },
  {
   "cell_type": "code",
   "execution_count": 1,
   "metadata": {
    "collapsed": true
   },
   "outputs": [
    {
     "name": "stdout",
     "output_type": "stream",
     "text": [
      "0\n",
      "30\n"
     ]
    },
    {
     "ename": "ZeroDivisionError",
     "evalue": "division by zero",
     "output_type": "error",
     "traceback": [
      "\u001b[1;31m---------------------------------------------------------------------------\u001b[0m",
      "\u001b[1;31mZeroDivisionError\u001b[0m                         Traceback (most recent call last)",
      "\u001b[1;32m<ipython-input-1-b8de95d2f2dc>\u001b[0m in \u001b[0;36m<module>\u001b[1;34m\u001b[0m\n\u001b[0;32m      2\u001b[0m \u001b[1;32mfor\u001b[0m \u001b[0mi\u001b[0m \u001b[1;32min\u001b[0m \u001b[0mrange\u001b[0m\u001b[1;33m(\u001b[0m\u001b[1;36m1\u001b[0m\u001b[1;33m,\u001b[0m\u001b[1;36m10\u001b[0m\u001b[1;33m)\u001b[0m\u001b[1;33m:\u001b[0m\u001b[1;33m\u001b[0m\u001b[1;33m\u001b[0m\u001b[0m\n\u001b[0;32m      3\u001b[0m     \u001b[0ms\u001b[0m \u001b[1;33m=\u001b[0m \u001b[0mint\u001b[0m\u001b[1;33m(\u001b[0m\u001b[0minput\u001b[0m\u001b[1;33m(\u001b[0m\u001b[1;33m)\u001b[0m\u001b[1;33m)\u001b[0m\u001b[1;33m\u001b[0m\u001b[1;33m\u001b[0m\u001b[0m\n\u001b[1;32m----> 4\u001b[1;33m     \u001b[0mt\u001b[0m \u001b[1;33m=\u001b[0m \u001b[0ms\u001b[0m\u001b[1;33m/\u001b[0m\u001b[0mn\u001b[0m\u001b[1;33m\u001b[0m\u001b[1;33m\u001b[0m\u001b[0m\n\u001b[0m\u001b[0;32m      5\u001b[0m     \u001b[0mprint\u001b[0m\u001b[1;33m(\u001b[0m\u001b[0mt\u001b[0m\u001b[1;33m)\u001b[0m\u001b[1;33m\u001b[0m\u001b[1;33m\u001b[0m\u001b[0m\n\u001b[0;32m      6\u001b[0m     \u001b[1;32mbreak\u001b[0m\u001b[1;33m\u001b[0m\u001b[1;33m\u001b[0m\u001b[0m\n",
      "\u001b[1;31mZeroDivisionError\u001b[0m: division by zero"
     ]
    }
   ],
   "source": [
    "n = int(input())\n",
    "for i in range(1,10):\n",
    "    s = int(input())\n",
    "    t = s/n\n",
    "    print(t)\n",
    "    break\n",
    "    \n",
    "    "
   ]
  },
  {
   "cell_type": "code",
   "execution_count": 19,
   "metadata": {},
   "outputs": [
    {
     "name": "stdout",
     "output_type": "stream",
     "text": [
      "1\n",
      "enter valid pin\n"
     ]
    }
   ],
   "source": [
    "balance = 10000   # 9000\n",
    "max_with_draw = balance-1000  # 9000\n",
    "pin = \"8956\"\n",
    "user_pin = input() #8956\n",
    "while pin==user_pin:\n",
    "    with_amount = int(input())\n",
    "    if max_with_draw> with_amount:\n",
    "        print(\"take your money\")\n",
    "        break\n",
    "    else:\n",
    "        print(\"limit exceed\")\n",
    "        break\n",
    "print(\"enter valid pin\")"
   ]
  },
  {
   "cell_type": "code",
   "execution_count": 20,
   "metadata": {},
   "outputs": [
    {
     "name": "stdout",
     "output_type": "stream",
     "text": [
      "1\n",
      "1\n"
     ]
    }
   ],
   "source": [
    "n = int(input()) \n",
    "n1 = int(input())\n",
    "for i in range(n,n1):#1,2,3,4,5\n",
    "    t = int(input())\n",
    "    print(t)"
   ]
  },
  {
   "cell_type": "code",
   "execution_count": 5,
   "metadata": {
    "scrolled": false
   },
   "outputs": [
    {
     "name": "stdout",
     "output_type": "stream",
     "text": [
      "1\n",
      "APSSDC\n",
      "10\n",
      "APSSDC\n",
      "10\n"
     ]
    }
   ],
   "source": [
    "n = int(input())\n",
    "c=0\n",
    "while n>c:\n",
    "    name = input()\n",
    "    age = int(input())\n",
    "    c=c+1\n",
    "    print(name)\n",
    "    print(age)"
   ]
  },
  {
   "cell_type": "markdown",
   "metadata": {},
   "source": [
    "### String\n",
    "\n",
    "* immutable ==> we cannot change string once defined"
   ]
  },
  {
   "cell_type": "code",
   "execution_count": 21,
   "metadata": {},
   "outputs": [
    {
     "data": {
      "text/plain": [
       "str"
      ]
     },
     "execution_count": 21,
     "metadata": {},
     "output_type": "execute_result"
    }
   ],
   "source": [
    "s = \"\"\n",
    "type(s)"
   ]
  },
  {
   "cell_type": "code",
   "execution_count": 22,
   "metadata": {},
   "outputs": [],
   "source": [
    "s = \"Hello world\"  \n",
    "# all the operations on string will based on indexing"
   ]
  },
  {
   "cell_type": "code",
   "execution_count": 23,
   "metadata": {},
   "outputs": [
    {
     "data": {
      "text/plain": [
       "'Hello world@'"
      ]
     },
     "execution_count": 23,
     "metadata": {},
     "output_type": "execute_result"
    }
   ],
   "source": [
    "s+\"@\""
   ]
  },
  {
   "cell_type": "code",
   "execution_count": 24,
   "metadata": {},
   "outputs": [
    {
     "data": {
      "text/plain": [
       "'Hello world'"
      ]
     },
     "execution_count": 24,
     "metadata": {},
     "output_type": "execute_result"
    }
   ],
   "source": [
    "s"
   ]
  },
  {
   "cell_type": "markdown",
   "metadata": {},
   "source": [
    "#### String elements accessing\n",
    "\n",
    "* based on indexing only"
   ]
  },
  {
   "cell_type": "code",
   "execution_count": 25,
   "metadata": {},
   "outputs": [
    {
     "data": {
      "text/plain": [
       "' '"
      ]
     },
     "execution_count": 25,
     "metadata": {},
     "output_type": "execute_result"
    }
   ],
   "source": [
    "s[5]"
   ]
  },
  {
   "cell_type": "code",
   "execution_count": 26,
   "metadata": {},
   "outputs": [
    {
     "data": {
      "text/plain": [
       "'l'"
      ]
     },
     "execution_count": 26,
     "metadata": {},
     "output_type": "execute_result"
    }
   ],
   "source": [
    "s[9]"
   ]
  },
  {
   "cell_type": "code",
   "execution_count": 27,
   "metadata": {},
   "outputs": [
    {
     "data": {
      "text/plain": [
       "'r'"
      ]
     },
     "execution_count": 27,
     "metadata": {},
     "output_type": "execute_result"
    }
   ],
   "source": [
    "s[-3]"
   ]
  },
  {
   "cell_type": "markdown",
   "metadata": {},
   "source": [
    "### String slicing\n",
    "\n",
    "syntax: s[starting index:ending index:step count]"
   ]
  },
  {
   "cell_type": "code",
   "execution_count": 28,
   "metadata": {},
   "outputs": [
    {
     "data": {
      "text/plain": [
       "'lo wo'"
      ]
     },
     "execution_count": 28,
     "metadata": {},
     "output_type": "execute_result"
    }
   ],
   "source": [
    "s[3:8] # 3,4,5,6,7"
   ]
  },
  {
   "cell_type": "code",
   "execution_count": 29,
   "metadata": {},
   "outputs": [
    {
     "data": {
      "text/plain": [
       "'l o'"
      ]
     },
     "execution_count": 29,
     "metadata": {},
     "output_type": "execute_result"
    }
   ],
   "source": [
    "s[3:8:2]  #3,5,7"
   ]
  },
  {
   "cell_type": "code",
   "execution_count": 30,
   "metadata": {},
   "outputs": [
    {
     "data": {
      "text/plain": [
       "'Hlowr'"
      ]
     },
     "execution_count": 30,
     "metadata": {},
     "output_type": "execute_result"
    }
   ],
   "source": [
    "s[:10:2] #0,2,4,5..9"
   ]
  },
  {
   "cell_type": "code",
   "execution_count": 31,
   "metadata": {},
   "outputs": [
    {
     "data": {
      "text/plain": [
       "'Hlowrd'"
      ]
     },
     "execution_count": 31,
     "metadata": {},
     "output_type": "execute_result"
    }
   ],
   "source": [
    "s[::2]  #0,2,4,6,8,10"
   ]
  },
  {
   "cell_type": "code",
   "execution_count": 32,
   "metadata": {},
   "outputs": [
    {
     "data": {
      "text/plain": [
       "11"
      ]
     },
     "execution_count": 32,
     "metadata": {},
     "output_type": "execute_result"
    }
   ],
   "source": [
    "len(s)"
   ]
  },
  {
   "cell_type": "code",
   "execution_count": null,
   "metadata": {},
   "outputs": [],
   "source": []
  },
  {
   "cell_type": "code",
   "execution_count": null,
   "metadata": {},
   "outputs": [],
   "source": []
  }
 ],
 "metadata": {
  "kernelspec": {
   "display_name": "Python 3",
   "language": "python",
   "name": "python3"
  },
  "language_info": {
   "codemirror_mode": {
    "name": "ipython",
    "version": 3
   },
   "file_extension": ".py",
   "mimetype": "text/x-python",
   "name": "python",
   "nbconvert_exporter": "python",
   "pygments_lexer": "ipython3",
   "version": "3.7.3"
  }
 },
 "nbformat": 4,
 "nbformat_minor": 2
}
